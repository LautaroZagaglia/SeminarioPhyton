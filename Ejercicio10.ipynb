{
 "cells": [
  {
   "cell_type": "code",
   "execution_count": 21,
   "metadata": {},
   "outputs": [],
   "source": [
    "with open(\"nombres_1.txt\", encoding=\"utf8\") as archivo_nombres:\n",
    "    nombres = archivo_nombres.read()\n",
    "with open(\"eval1.txt\") as archivo_evaluacion1:\n",
    "    evaluacion1 = archivo_evaluacion1.read()\n",
    "with open(\"eval2.txt\") as archivo_evaluacion2:\n",
    "    evaluacion2 = archivo_evaluacion2.read()"
   ]
  },
  {
   "cell_type": "code",
   "execution_count": 22,
   "metadata": {},
   "outputs": [],
   "source": [
    "nombres = nombres.replace(\",\", \"\").replace(\"'\", \"\").split()\n",
    "evaluacion1 = evaluacion1.replace(\",\", \"\").split()\n",
    "evaluacion2 = evaluacion2.replace(\",\", \"\").split()"
   ]
  },
  {
   "cell_type": "markdown",
   "metadata": {},
   "source": [
    "Función que genera una lista de tuplas, cada tupla contiene nombre y nota total."
   ]
  },
  {
   "cell_type": "code",
   "execution_count": 23,
   "metadata": {},
   "outputs": [],
   "source": [
    "def generar_lista (lista_nombres, eval1, eval2):\n",
    "    pos = 0\n",
    "    lista = []\n",
    "    for nombre in lista_nombres:\n",
    "        tupla = (nombre, int(eval1[pos])+int(eval2[pos]))\n",
    "        lista.append(tupla)\n",
    "        pos += 1\n",
    "    return lista"
   ]
  },
  {
   "cell_type": "code",
   "execution_count": 24,
   "metadata": {},
   "outputs": [],
   "source": [
    "def calcular_promedio(alumnos):\n",
    "    total_notas = 0\n",
    "    for nota in alumnos:\n",
    "        total_notas += nota[1]\n",
    "    promedio = total_notas / len(alumnos)\n",
    "    return promedio"
   ]
  },
  {
   "cell_type": "markdown",
   "metadata": {},
   "source": [
    "Funcion que recorre la lista y evalua las notas de los alumnos, si la nota es menor al promedio, lo informa. "
   ]
  },
  {
   "cell_type": "code",
   "execution_count": 25,
   "metadata": {},
   "outputs": [],
   "source": [
    "def informar(alumnos, prom):\n",
    "    for nota in alumnos:\n",
    "        if nota [1] < prom:\n",
    "            print(f\"El alumno {nota[0]} tiene una nota menor al promedio\")\n"
   ]
  },
  {
   "cell_type": "code",
   "execution_count": null,
   "metadata": {},
   "outputs": [],
   "source": [
    "estudiantes = generar_lista(nombres, evaluacion1, evaluacion2)\n",
    "promedio = calcular_promedio(estudiantes)\n",
    "informar(estudiantes, promedio)"
   ]
  }
 ],
 "metadata": {
  "interpreter": {
   "hash": "33541a670e8887513ebdf0f19cec6625b51694c5ef6b1c7e83282c54d5cd54e5"
  },
  "kernelspec": {
   "display_name": "Python 3.10.3 64-bit",
   "language": "python",
   "name": "python3"
  },
  "language_info": {
   "codemirror_mode": {
    "name": "ipython",
    "version": 3
   },
   "file_extension": ".py",
   "mimetype": "text/x-python",
   "name": "python",
   "nbconvert_exporter": "python",
   "pygments_lexer": "ipython3",
   "version": "3.10.3"
  },
  "orig_nbformat": 4
 },
 "nbformat": 4,
 "nbformat_minor": 2
}
